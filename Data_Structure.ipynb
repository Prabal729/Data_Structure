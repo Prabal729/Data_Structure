{
  "nbformat": 4,
  "nbformat_minor": 0,
  "metadata": {
    "colab": {
      "provenance": []
    },
    "kernelspec": {
      "name": "python3",
      "display_name": "Python 3"
    },
    "language_info": {
      "name": "python"
    }
  },
  "cells": [
    {
      "cell_type": "markdown",
      "source": [
        "# **DATA STRUCTURE **"
      ],
      "metadata": {
        "id": "ty2kVibwApLo"
      }
    },
    {
      "cell_type": "markdown",
      "source": [
        "1. What are data structures, and why are they important ?\n",
        "-> Data structures is a type of data containers , which is used to store data efficiently. Data structure is important because if the data is not stored properly is causes problem. For huge amount of data is very necessary to store data in very effective way.\n",
        "2. Explain the difference between mutable and immutable data types with examples.\n",
        "-> Mutable data types are allow to update data already present in the data structure, but immutable data types are not allowed to update data present in the data structure.\n",
        "Mutable data types are important for data updation in future but when it comes to security purpose data should not be updated by anyone ,that kind of data types are immutable data types.\n",
        "List are mutable data structure and tuples are immutable data structure.\n",
        "3. What are the main differences between lists and tuples in Python ?\n",
        "-> The main difference between lists and tuple is list is mutable type of data structure and tuple is immutable of data structure.\n",
        "4. Describe how dictionaries store data ?\n",
        "-> Dictionaries are another kind of data structure in where data is stored in key value pair like dict={\"name\":\"prabal\",\"age\":23}.\n",
        "5. Why might you use a set instead of a list in Python ?\n",
        "-> We should use set instead of list because set doesn't support duplicate values where as list supports duplicate values. Duplicate value might create moemory consumpsion more so we use set instead of list.\n",
        "6. What is a string in Python, and how is it different from a list?\n",
        "-> String is a data structure in python. Anything enclosed with \"\" is treated as string. But in case of list , list is made using [] brackets.\n",
        "7.  How do tuples ensure data integrity in Python ?\n",
        "-> As we know tuple is a immutable data structure in python. So once the tuple is created we are not suppose to do any changes there. So like that way the data integrity is restored in python while we use tuple .\n",
        "8. What is a hash table, and how does it relate to dictionaries in Python ?\n",
        "-> A hash table is a data structure that stores key-value pairs using a hash function to compute an index for fast retrieval.\n",
        "A Python dictionary is implemented using a hash table, where keys are hashed to determine their storage location for efficient lookups, insertions, and deletions.\n",
        "9. Can lists contain different data types in Python ?\n",
        "-> Yes list can contain different type of data typle like list in list, tuple in list,dictionary in list and set in list.\n",
        "10. Explain why strings are immutable in Python.\n",
        "->Strings in Python are immutable to ensure memory efficiency, hashability (dictionary keys), thread safety, and security. This means their contents cannot be changed after creation. Instead, operations on strings create new string objects.\n",
        "11. What advantages do dictionaries offer over lists for certain tasks ?\n",
        "-> First of all dictionary is used to store data in key value pair so that we can store data which is associated to soem thing like name with name value,age with age value. So that in list we are not allowed to store data like that. So when we are suppose to store data in key value pair , then dictionary is the best to choose.\n",
        "12. Describe a scenario where using a tuple would be preferable over a list.\n",
        "-> Suppose lets take a example of adhar card. For every indian citizen has a unique adhar card number. The number is associated with every thing of a person.So that it can't be modified. when the person died the number can only be deleted permanently. In this kind of case we use tuple over list because tuple is immutable , after storing some data in tuple its not possible to change or modify it, except delete. If the adhar number is stored in list it can be chnageable so it causes problem.\n",
        "13.  How do sets handle duplicate values in Python?\n",
        "->  Set are not allow duplicate values. It doesn't mean it not accept duplicate value. While the set is create we can store duplicate value in it, but while it actually storing it, it checks all values if there are duplicate it skips the value .\n",
        "se={1,1,2,3,4,88,88,8,3,4}\n",
        "se\n",
        "o/p: {1, 2, 3, 4, 8, 88}\n",
        "14. How does the “in” keyword work differently for lists and dictionaries?\n",
        "-> If we created a list of few elements and pick a element and write that elemeni in that list (1 in lis) , its gives true, when the element is present there. But in case of dictionaries we need to call the key element for in. If we call value element for in ,instead of present of that element it gives false.\n",
        "list :\n",
        "se =[1,1,2,3,4,88,88,8,3,4]\n",
        "1 in se\n",
        "o/p: True\n",
        "dictioary:\n",
        "s={ 1:\"one\",2:\"two\",3:\"three\"}\n",
        "1 in s\n",
        "o/p: True\n",
        "s={ 1:\"one\",2:\"two\",3:\"three\"}\n",
        "\"one\" in s\n",
        "o/p: False\n",
        "15. Can you modify the elements of a tuple? Explain why or why not.\n",
        "-> NO we are ot suppose to modify any element in tuple after the tuple has been created . The reason is tuple is immutable in nature.\n",
        "16. What is a nested dictionary, and give an example of its use case?\n",
        "-> When we created a dictionary inside another dictionary is called as nested dictionay.\n",
        "students = {'student1': {'name': 'Alice', 'age': 23},'student2': {'name': 'Bob', 'age': 34}}\n",
        "students\n",
        "o/p: {'student1': {'name': 'Alice', 'age': 23},\n",
        " 'student2': {'name': 'Bob', 'age': 34}}\n",
        "17. Describe the time complexity of accessing elements in a dictionary.\n",
        "-> As Python dictionary is implemented using a hash table, where keys are hashed to determine their storage location for efficient lookups, insertions, and deletions. So the coomplexity of accessing elements in dictionaries is O(1) for best case scenarion.\n",
        "18. In what situations are lists preferred over dictionaries?\n",
        "-> When we are not suppose to store data in key value pair or we can say when we nned to store some random elemnets or operation then list is the most preferred one .\n",
        "19.  Why are dictionaries considered unordered, and how does that affect data retrieval?\n",
        "-> Dictionary is considered as unordered beacuse in dictionary the data retrival is happeed based on key element.\n",
        "20. Explain the difference between a list and a dictionary in terms of data retrieval.\n",
        "->  In case of list the data retrival happened based on index values.like\n",
        "s=[1,2,3,4,5]\n",
        "s[2]\n",
        "o/p : 3\n",
        "But in case of dictionary the data retrival happened based on key element. like:\n",
        "s={\"name\":\"prabal\",\"age\":23}\n",
        "s[\"age\"]\n",
        "o/p: 23\n",
        "\n"
      ],
      "metadata": {
        "id": "PKD9W8_M30Eq"
      }
    },
    {
      "cell_type": "markdown",
      "source": [],
      "metadata": {
        "id": "9hRTlZvnqAvd"
      }
    },
    {
      "cell_type": "markdown",
      "source": [
        "1. Write a code to create a string with your name and print it."
      ],
      "metadata": {
        "id": "M7L53hzqu8KE"
      }
    },
    {
      "cell_type": "code",
      "execution_count": null,
      "metadata": {
        "colab": {
          "base_uri": "https://localhost:8080/"
        },
        "id": "5Pk_AYV5p9LJ",
        "outputId": "55d582e3-a7af-4684-cb68-71c295f1a73f"
      },
      "outputs": [
        {
          "output_type": "stream",
          "name": "stdout",
          "text": [
            "Enter your name :Prabal\n",
            "Prabal\n"
          ]
        }
      ],
      "source": [
        "string_1=input(\"Enter your name :\")\n",
        "print(string_1)"
      ]
    },
    {
      "cell_type": "markdown",
      "source": [
        "2. Write a code to find the length of the string \"Hello World\":"
      ],
      "metadata": {
        "id": "eevD-SpBqQuz"
      }
    },
    {
      "cell_type": "code",
      "source": [
        "string_2=\"Hello World\"\n",
        "print(len(string_2))"
      ],
      "metadata": {
        "colab": {
          "base_uri": "https://localhost:8080/"
        },
        "id": "2p1NhZaCqOc-",
        "outputId": "2c16cab9-f1f9-4123-8e54-7a4e20f8c615"
      },
      "execution_count": null,
      "outputs": [
        {
          "output_type": "stream",
          "name": "stdout",
          "text": [
            "11\n"
          ]
        }
      ]
    },
    {
      "cell_type": "markdown",
      "source": [
        "3. Write a code to slice the first 3 characters from the string \"Python Programming\""
      ],
      "metadata": {
        "id": "57fQ8bizqfmS"
      }
    },
    {
      "cell_type": "code",
      "source": [
        "string_3 =\"Python Programming\"\n",
        "print(string_3[0:3])"
      ],
      "metadata": {
        "colab": {
          "base_uri": "https://localhost:8080/"
        },
        "id": "sdyjW8GJqbzG",
        "outputId": "a909abba-7f25-49f4-d4dc-3241a2280805"
      },
      "execution_count": null,
      "outputs": [
        {
          "output_type": "stream",
          "name": "stdout",
          "text": [
            "Pyt\n"
          ]
        }
      ]
    },
    {
      "cell_type": "markdown",
      "source": [
        "4.Write a code to convert the string \"hello\" to uppercase"
      ],
      "metadata": {
        "id": "tfsZqPX5qtp2"
      }
    },
    {
      "cell_type": "code",
      "source": [
        "string_4=\"hello\"\n",
        "print(string_4.upper())"
      ],
      "metadata": {
        "colab": {
          "base_uri": "https://localhost:8080/"
        },
        "id": "C6ls6cvtqqlN",
        "outputId": "f4740f3e-e1ef-408f-8d47-94a0a09a6942"
      },
      "execution_count": null,
      "outputs": [
        {
          "output_type": "stream",
          "name": "stdout",
          "text": [
            "HELLO\n"
          ]
        }
      ]
    },
    {
      "cell_type": "markdown",
      "source": [
        "5.  Write a code to replace the word \"apple\" with \"orange\" in the string \"I like apple\""
      ],
      "metadata": {
        "id": "WZG_WlTDq7AA"
      }
    },
    {
      "cell_type": "code",
      "source": [
        "string_5 = \"I like apple\"\n",
        "string_5[7:12]=\"orrange\""
      ],
      "metadata": {
        "colab": {
          "base_uri": "https://localhost:8080/",
          "height": 164
        },
        "id": "bD4nllY2q2wd",
        "outputId": "f03036fd-1c49-48b2-a06e-bcca28f61b99"
      },
      "execution_count": null,
      "outputs": [
        {
          "output_type": "error",
          "ename": "TypeError",
          "evalue": "'str' object does not support item assignment",
          "traceback": [
            "\u001b[0;31m---------------------------------------------------------------------------\u001b[0m",
            "\u001b[0;31mTypeError\u001b[0m                                 Traceback (most recent call last)",
            "\u001b[0;32m<ipython-input-9-fab05b3e7365>\u001b[0m in \u001b[0;36m<cell line: 0>\u001b[0;34m()\u001b[0m\n\u001b[1;32m      1\u001b[0m \u001b[0mstring_5\u001b[0m \u001b[0;34m=\u001b[0m \u001b[0;34m\"I like apple\"\u001b[0m\u001b[0;34m\u001b[0m\u001b[0;34m\u001b[0m\u001b[0m\n\u001b[0;32m----> 2\u001b[0;31m \u001b[0mstring_5\u001b[0m\u001b[0;34m[\u001b[0m\u001b[0;36m7\u001b[0m\u001b[0;34m:\u001b[0m\u001b[0;36m12\u001b[0m\u001b[0;34m]\u001b[0m\u001b[0;34m=\u001b[0m\u001b[0;34m\"orrange\"\u001b[0m\u001b[0;34m\u001b[0m\u001b[0;34m\u001b[0m\u001b[0m\n\u001b[0m",
            "\u001b[0;31mTypeError\u001b[0m: 'str' object does not support item assignment"
          ]
        }
      ]
    },
    {
      "cell_type": "markdown",
      "source": [
        "6. Write a code to create a list with numbers 1 to 5 and print it"
      ],
      "metadata": {
        "id": "GLFplJqGrVar"
      }
    },
    {
      "cell_type": "code",
      "source": [
        "list_6 = [1,2,3,4,5]\n",
        "print(list_6)"
      ],
      "metadata": {
        "colab": {
          "base_uri": "https://localhost:8080/"
        },
        "id": "C5EKT6vRrALD",
        "outputId": "5fe6c5a7-0393-409c-c722-4996a931a4db"
      },
      "execution_count": null,
      "outputs": [
        {
          "output_type": "stream",
          "name": "stdout",
          "text": [
            "[1, 2, 3, 4, 5]\n"
          ]
        }
      ]
    },
    {
      "cell_type": "markdown",
      "source": [
        "7. Write a code to append the number 10 to the list [1, 2, 3, 4]"
      ],
      "metadata": {
        "id": "mKnTQvtmrhXJ"
      }
    },
    {
      "cell_type": "code",
      "source": [
        "list_7 = [1,2,3,4]\n",
        "list_7.append(10)\n",
        "print(list_7)"
      ],
      "metadata": {
        "colab": {
          "base_uri": "https://localhost:8080/"
        },
        "id": "44bnhSAbreEd",
        "outputId": "77540fd1-0041-4895-cd12-6a4b9c7a1f20"
      },
      "execution_count": null,
      "outputs": [
        {
          "output_type": "stream",
          "name": "stdout",
          "text": [
            "[1, 2, 3, 4, 10]\n"
          ]
        }
      ]
    },
    {
      "cell_type": "markdown",
      "source": [
        "8. Write a code to remove the number 3 from the list [1, 2, 3, 4, 5]"
      ],
      "metadata": {
        "id": "lutNRwuJrqEL"
      }
    },
    {
      "cell_type": "code",
      "source": [
        "list_8 = [1,2,3,4,5]\n",
        "list_8.remove(3)\n",
        "print(list_8)"
      ],
      "metadata": {
        "colab": {
          "base_uri": "https://localhost:8080/"
        },
        "id": "75RcDj37rnBF",
        "outputId": "87078a3b-e261-4367-e5fc-8061223f202d"
      },
      "execution_count": null,
      "outputs": [
        {
          "output_type": "stream",
          "name": "stdout",
          "text": [
            "[1, 2, 4, 5]\n"
          ]
        }
      ]
    },
    {
      "cell_type": "markdown",
      "source": [
        "9. Write a code to access the second element in the list ['a', 'b', 'c', 'd']"
      ],
      "metadata": {
        "id": "UEYUH17PrzCR"
      }
    },
    {
      "cell_type": "code",
      "source": [
        "list_9 =  ['a', 'b', 'c', 'd']\n",
        "list_9[1]"
      ],
      "metadata": {
        "colab": {
          "base_uri": "https://localhost:8080/",
          "height": 36
        },
        "id": "S2WQfMUZrwRF",
        "outputId": "eff2041f-8dab-44cb-ec22-bdb002c132cb"
      },
      "execution_count": null,
      "outputs": [
        {
          "output_type": "execute_result",
          "data": {
            "text/plain": [
              "'b'"
            ],
            "application/vnd.google.colaboratory.intrinsic+json": {
              "type": "string"
            }
          },
          "metadata": {},
          "execution_count": 13
        }
      ]
    },
    {
      "cell_type": "markdown",
      "source": [
        "10. Write a code to reverse the list [10, 20, 30, 40, 50]."
      ],
      "metadata": {
        "id": "KgOyOYizr9rd"
      }
    },
    {
      "cell_type": "code",
      "source": [
        "list_10 = [10, 20, 30, 40, 50]\n",
        "list_10.reverse()\n",
        "print(list_10)"
      ],
      "metadata": {
        "colab": {
          "base_uri": "https://localhost:8080/"
        },
        "id": "8yepEk5or6dE",
        "outputId": "fb117e93-e407-4200-fe4d-6387590011d2"
      },
      "execution_count": null,
      "outputs": [
        {
          "output_type": "stream",
          "name": "stdout",
          "text": [
            "[50, 40, 30, 20, 10]\n"
          ]
        }
      ]
    },
    {
      "cell_type": "markdown",
      "source": [
        "11. Write a code to create a tuple with the elements 100, 200, 300 and print it."
      ],
      "metadata": {
        "id": "TdxMazOisHRP"
      }
    },
    {
      "cell_type": "code",
      "source": [
        "tuple_11 = (100,200,300)\n",
        "print(tuple_11)"
      ],
      "metadata": {
        "colab": {
          "base_uri": "https://localhost:8080/"
        },
        "id": "62nME6HOsChV",
        "outputId": "def3ff02-52ec-4cf8-e10c-c43f59146269"
      },
      "execution_count": null,
      "outputs": [
        {
          "output_type": "stream",
          "name": "stdout",
          "text": [
            "(100, 200, 300)\n"
          ]
        }
      ]
    },
    {
      "cell_type": "markdown",
      "source": [
        "12.  Write a code to access the second-to-last element of the tuple ('red', 'green', 'blue', 'yellow')."
      ],
      "metadata": {
        "id": "X2acZ1MvsRH1"
      }
    },
    {
      "cell_type": "code",
      "source": [
        "tuple_12 =  ('red', 'green', 'blue', 'yellow')\n",
        "print(tuple_12[-2])"
      ],
      "metadata": {
        "colab": {
          "base_uri": "https://localhost:8080/"
        },
        "id": "CHtIKaiKsNXl",
        "outputId": "c4c3785b-3bc6-49d7-e59d-93601bb71e37"
      },
      "execution_count": null,
      "outputs": [
        {
          "output_type": "stream",
          "name": "stdout",
          "text": [
            "blue\n"
          ]
        }
      ]
    },
    {
      "cell_type": "markdown",
      "source": [
        "13. Write a code to find the minimum number in the tuple (10, 20, 5, 15)."
      ],
      "metadata": {
        "id": "3TsVZbN_scCB"
      }
    },
    {
      "cell_type": "code",
      "source": [
        "tuple_13 = (10, 20, 5, 15)\n",
        "print(min(tuple_13))"
      ],
      "metadata": {
        "colab": {
          "base_uri": "https://localhost:8080/"
        },
        "id": "CihLED3RsZTs",
        "outputId": "d1fe2e5d-334d-4d8b-e81c-e7dcffaefbc4"
      },
      "execution_count": null,
      "outputs": [
        {
          "output_type": "stream",
          "name": "stdout",
          "text": [
            "5\n"
          ]
        }
      ]
    },
    {
      "cell_type": "markdown",
      "source": [
        "14. Write a code to find the index of the element \"cat\" in the tuple ('dog', 'cat', 'rabbit')."
      ],
      "metadata": {
        "id": "Xis2bmVJsmIl"
      }
    },
    {
      "cell_type": "code",
      "source": [
        "tuple_14 = ('dog', 'cat', 'rabbit')\n",
        "print(tuple_14.index(\"cat\"))"
      ],
      "metadata": {
        "colab": {
          "base_uri": "https://localhost:8080/"
        },
        "id": "-wLQz_LssiNt",
        "outputId": "87f70755-a953-44eb-83cc-3a361699780c"
      },
      "execution_count": null,
      "outputs": [
        {
          "output_type": "stream",
          "name": "stdout",
          "text": [
            "1\n"
          ]
        }
      ]
    },
    {
      "cell_type": "markdown",
      "source": [
        "15.  Write a code to create a tuple containing three different fruits and check if \"kiwi\" is in it."
      ],
      "metadata": {
        "id": "GfgqfUrftFjn"
      }
    },
    {
      "cell_type": "code",
      "source": [
        "tuple_15 = (\"apple\",\"banana\",\"kiwi\")\n",
        "print(\"kiwi\" in tuple_15)"
      ],
      "metadata": {
        "colab": {
          "base_uri": "https://localhost:8080/"
        },
        "id": "u9MGMfhUs86M",
        "outputId": "134e2839-2d0e-4306-b13e-53708bbf9791"
      },
      "execution_count": null,
      "outputs": [
        {
          "output_type": "stream",
          "name": "stdout",
          "text": [
            "True\n"
          ]
        }
      ]
    },
    {
      "cell_type": "markdown",
      "source": [
        "16. . Write a code to create a set with the elements 'a', 'b', 'c' and print it."
      ],
      "metadata": {
        "id": "Sz8_V0zwtp85"
      }
    },
    {
      "cell_type": "code",
      "source": [
        "set_16 = {'a','b','c'}\n",
        "print(set_16)"
      ],
      "metadata": {
        "colab": {
          "base_uri": "https://localhost:8080/"
        },
        "id": "trUGUsjQtcPM",
        "outputId": "371136fc-e2e2-406c-a8a0-7d2327a0efaf"
      },
      "execution_count": null,
      "outputs": [
        {
          "output_type": "stream",
          "name": "stdout",
          "text": [
            "{'c', 'b', 'a'}\n"
          ]
        }
      ]
    },
    {
      "cell_type": "markdown",
      "source": [
        "17. Write a code to clear all elements from the set {1, 2, 3, 4, 5}."
      ],
      "metadata": {
        "id": "aDYqtJ8Xt3V0"
      }
    },
    {
      "cell_type": "code",
      "source": [
        "set_17={1, 2, 3, 4, 5}\n",
        "set_17.clear()\n",
        "print(set_17)"
      ],
      "metadata": {
        "colab": {
          "base_uri": "https://localhost:8080/"
        },
        "id": "bNml3fImtyUk",
        "outputId": "94af40d7-f0bd-451b-a157-ec44c6841f8c"
      },
      "execution_count": null,
      "outputs": [
        {
          "output_type": "stream",
          "name": "stdout",
          "text": [
            "set()\n"
          ]
        }
      ]
    },
    {
      "cell_type": "markdown",
      "source": [
        "18.  Write a code to remove the element 4 from the set {1, 2, 3, 4}."
      ],
      "metadata": {
        "id": "-H1-VpHut_8n"
      }
    },
    {
      "cell_type": "code",
      "source": [
        "set_18 = {1,2,3,4}\n",
        "set_18.remove(4)\n",
        "print(set_18)"
      ],
      "metadata": {
        "colab": {
          "base_uri": "https://localhost:8080/"
        },
        "id": "cPeGWr42t7T0",
        "outputId": "1b7d6a99-3ac6-4078-ffdb-3de0700df455"
      },
      "execution_count": null,
      "outputs": [
        {
          "output_type": "stream",
          "name": "stdout",
          "text": [
            "{1, 2, 3}\n"
          ]
        }
      ]
    },
    {
      "cell_type": "markdown",
      "source": [
        "19. Write a code to find the union of two sets {1, 2, 3} and {3, 4, 5}."
      ],
      "metadata": {
        "id": "fL3EX4--uaUZ"
      }
    },
    {
      "cell_type": "code",
      "source": [
        "set_19_1 = {1,2,3}\n",
        "set_19_2 = {3,4,5}\n",
        "print(set_19_1.union(set_19_2))"
      ],
      "metadata": {
        "colab": {
          "base_uri": "https://localhost:8080/"
        },
        "id": "J-8-GqFouHD7",
        "outputId": "c3bf9eb1-2840-4b6b-b3ae-160192a5321f"
      },
      "execution_count": null,
      "outputs": [
        {
          "output_type": "stream",
          "name": "stdout",
          "text": [
            "{1, 2, 3, 4, 5}\n"
          ]
        }
      ]
    },
    {
      "cell_type": "markdown",
      "source": [
        "20. Write a code to find the intersection of two sets {1, 2, 3} and {2, 3, 4}.\n"
      ],
      "metadata": {
        "id": "l65hG6wbufzH"
      }
    },
    {
      "cell_type": "code",
      "source": [
        "set_19_1 = {1,2,3}\n",
        "set_19_2 = {2,3,4}\n",
        "print(set_19_1.intersection(set_19_2))"
      ],
      "metadata": {
        "colab": {
          "base_uri": "https://localhost:8080/"
        },
        "id": "EtvTy-BhudyE",
        "outputId": "580383ea-0617-49e2-dd6d-9b2ece480be1"
      },
      "execution_count": null,
      "outputs": [
        {
          "output_type": "stream",
          "name": "stdout",
          "text": [
            "{2, 3}\n"
          ]
        }
      ]
    },
    {
      "cell_type": "markdown",
      "source": [
        "21.  Write a code to create a dictionary with the keys \"name\", \"age\", and \"city\", and print it"
      ],
      "metadata": {
        "id": "6rpWskOWzup0"
      }
    },
    {
      "cell_type": "code",
      "source": [
        "dict_21 ={\"name\":\"Prabal\",\"age\":23,\"city\":\"KOlkata\"}\n",
        "print(dict_21)"
      ],
      "metadata": {
        "id": "zflEBEco0q6t",
        "colab": {
          "base_uri": "https://localhost:8080/"
        },
        "outputId": "bd9d138b-7b6d-4429-f707-edc2f9a89392"
      },
      "execution_count": null,
      "outputs": [
        {
          "output_type": "stream",
          "name": "stdout",
          "text": [
            "{'name': 'Prabal', 'age': 23, 'city': 'KOlkata'}\n"
          ]
        }
      ]
    },
    {
      "cell_type": "markdown",
      "source": [
        "22. Write a code to add a new key-value pair \"country\": \"USA\" to the dictionary {'name': 'John', 'age': 25}."
      ],
      "metadata": {
        "id": "Dh0opvqD0U5W"
      }
    },
    {
      "cell_type": "code",
      "source": [
        "dict_22 = {\"name\":\"john\",\"age\":25}\n",
        "dict_22[\"country\"]=\"USA\"\n",
        "\n",
        "print(dict_22)"
      ],
      "metadata": {
        "colab": {
          "base_uri": "https://localhost:8080/"
        },
        "id": "n_XBKHSNz_5I",
        "outputId": "06bc08de-33b6-4419-e6be-b2ec6f611cb2"
      },
      "execution_count": null,
      "outputs": [
        {
          "output_type": "stream",
          "name": "stdout",
          "text": [
            "{'name': 'john', 'age': 25, 'country': 'USA'}\n"
          ]
        }
      ]
    },
    {
      "cell_type": "code",
      "source": [
        "dict_22 = {\"name\":\"john\",\"age\":25}\n",
        "dict_22.update({\"country\":\"USA\"})\n",
        "print(dict_22)"
      ],
      "metadata": {
        "colab": {
          "base_uri": "https://localhost:8080/"
        },
        "id": "st9i5euX0f3Z",
        "outputId": "2ee0c7a4-7299-4554-998e-b49b8fbdc50b"
      },
      "execution_count": null,
      "outputs": [
        {
          "output_type": "stream",
          "name": "stdout",
          "text": [
            "{'name': 'john', 'age': 25, 'country': 'USA'}\n"
          ]
        }
      ]
    },
    {
      "cell_type": "markdown",
      "source": [
        "23. Write a code to access the value associated with the key \"name\" in the dictionary {'name': 'Alice', 'age': 30}"
      ],
      "metadata": {
        "id": "1j3MxSfy1PHB"
      }
    },
    {
      "cell_type": "code",
      "source": [
        "dict_23 ={'name': 'Alice', 'age': 30}\n",
        "dict_23[\"name\"]"
      ],
      "metadata": {
        "colab": {
          "base_uri": "https://localhost:8080/",
          "height": 36
        },
        "id": "QxGzfT2i1El2",
        "outputId": "226c96f9-88e7-481e-98c0-1623b53a0271"
      },
      "execution_count": null,
      "outputs": [
        {
          "output_type": "execute_result",
          "data": {
            "text/plain": [
              "'Alice'"
            ],
            "application/vnd.google.colaboratory.intrinsic+json": {
              "type": "string"
            }
          },
          "metadata": {},
          "execution_count": 13
        }
      ]
    },
    {
      "cell_type": "markdown",
      "source": [
        "24. Write a code to remove the key \"age\" from the dictionary {'name': 'Bob', 'age': 22, 'city': 'New York'}."
      ],
      "metadata": {
        "id": "y1Hx4for1Y9I"
      }
    },
    {
      "cell_type": "code",
      "source": [
        "dict_24 = {'name': 'Bob', 'age': 22, 'city': 'New York'}\n",
        "dict_24.pop(\"age\")\n",
        "print(dict_24)"
      ],
      "metadata": {
        "colab": {
          "base_uri": "https://localhost:8080/"
        },
        "id": "BMiVYRic1UDg",
        "outputId": "15e21604-df6a-44d4-c479-7d65601751b6"
      },
      "execution_count": null,
      "outputs": [
        {
          "output_type": "stream",
          "name": "stdout",
          "text": [
            "{'name': 'Bob', 'city': 'New York'}\n"
          ]
        }
      ]
    },
    {
      "cell_type": "markdown",
      "source": [
        "25. Write a code to check if the key \"city\" exists in the dictionary {'name': 'Alice', 'city': 'Paris'}."
      ],
      "metadata": {
        "id": "QSEFwLBF1nGh"
      }
    },
    {
      "cell_type": "code",
      "source": [
        "dict_25 = {'name': 'Alice', 'city': 'Paris'}\n",
        "print(\"city\" in dict_25)"
      ],
      "metadata": {
        "colab": {
          "base_uri": "https://localhost:8080/"
        },
        "id": "xNpJXEGX1gf1",
        "outputId": "142d46fe-5eda-455d-c99e-cd0fd2f830da"
      },
      "execution_count": null,
      "outputs": [
        {
          "output_type": "stream",
          "name": "stdout",
          "text": [
            "True\n"
          ]
        }
      ]
    },
    {
      "cell_type": "markdown",
      "source": [
        "26. Write a code to create a list, a tuple, and a dictionary, and print them all."
      ],
      "metadata": {
        "id": "9_cNEtFg1yRl"
      }
    },
    {
      "cell_type": "code",
      "source": [
        "list_26 = [1,2,3,4]\n",
        "tuple_26 = (1,2,3,4)\n",
        "dict_26 = {\"name\":\"Prabal\",\"age\":23,\"city\":\"KOlkata\"}\n",
        "print(list_26)\n",
        "print(tuple_26)\n",
        "print(dict_26)"
      ],
      "metadata": {
        "colab": {
          "base_uri": "https://localhost:8080/"
        },
        "id": "ve7tRWRG1tge",
        "outputId": "cfebedfe-258e-47ca-ec38-03725d506804"
      },
      "execution_count": null,
      "outputs": [
        {
          "output_type": "stream",
          "name": "stdout",
          "text": [
            "[1, 2, 3, 4]\n",
            "(1, 2, 3, 4)\n",
            "{'name': 'Prabal', 'age': 23, 'city': 'KOlkata'}\n"
          ]
        }
      ]
    },
    {
      "cell_type": "markdown",
      "source": [
        "27. Write a code to create a list of 5 random numbers between 1 and 100, sort it in ascending order, and print the\n",
        "result.(replaced)"
      ],
      "metadata": {
        "id": "3hXwOsPY1_4e"
      }
    },
    {
      "cell_type": "code",
      "source": [
        "# prompt: Write a code to create a list of 5 random numbers between 1 and 100, sort it in ascending order, and print the result\n",
        "\n",
        "import random\n",
        "\n",
        "# Create a list of 5 random numbers between 1 and 100\n",
        "random_numbers = [random.randint(1, 100) for _ in range(5)]\n",
        "\n",
        "# Sort the list in ascending order\n",
        "random_numbers.sort()\n",
        "\n",
        "# Print the sorted list\n",
        "random_numbers\n"
      ],
      "metadata": {
        "colab": {
          "base_uri": "https://localhost:8080/",
          "height": 146
        },
        "id": "TSkQZVzh17HN",
        "outputId": "2e21aa15-765f-4b02-e837-52eac4056d32"
      },
      "execution_count": null,
      "outputs": [
        {
          "output_type": "error",
          "ename": "NameError",
          "evalue": "name 'rand' is not defined",
          "traceback": [
            "\u001b[0;31m---------------------------------------------------------------------------\u001b[0m",
            "\u001b[0;31mNameError\u001b[0m                                 Traceback (most recent call last)",
            "\u001b[0;32m<ipython-input-24-ec5fab079ab3>\u001b[0m in \u001b[0;36m<cell line: 0>\u001b[0;34m()\u001b[0m\n\u001b[0;32m----> 1\u001b[0;31m \u001b[0mrand\u001b[0m\u001b[0;34m(\u001b[0m\u001b[0;34m)\u001b[0m\u001b[0;34m\u001b[0m\u001b[0;34m\u001b[0m\u001b[0m\n\u001b[0m",
            "\u001b[0;31mNameError\u001b[0m: name 'rand' is not defined"
          ]
        }
      ]
    },
    {
      "cell_type": "code",
      "source": [],
      "metadata": {
        "id": "qyjbX1hv2GlW"
      },
      "execution_count": null,
      "outputs": []
    },
    {
      "cell_type": "markdown",
      "source": [
        "28.  Write a code to create a list with strings and print the element at the third index."
      ],
      "metadata": {
        "id": "WmRjREFJ23lk"
      }
    },
    {
      "cell_type": "code",
      "source": [
        "list_28 = [\"I\",\"am\",\"good\",\"boy\"]\n",
        "print(list_28[2])"
      ],
      "metadata": {
        "colab": {
          "base_uri": "https://localhost:8080/"
        },
        "id": "5iKbNASB26Nd",
        "outputId": "5eae63d6-d9c2-4024-803e-adb7cba2d801"
      },
      "execution_count": null,
      "outputs": [
        {
          "output_type": "stream",
          "name": "stdout",
          "text": [
            "good\n"
          ]
        }
      ]
    },
    {
      "cell_type": "markdown",
      "source": [
        "29. Write a code to combine two dictionaries into one and print the result."
      ],
      "metadata": {
        "id": "3gK2ZP6A3GTO"
      }
    },
    {
      "cell_type": "code",
      "source": [
        "dict_1={\"name\":\"Prabal\",\"age\":23}\n",
        "dict_2={\"city\":\"KOlkata\"}\n",
        "dict_1.update(dict_2)\n",
        "print(dict_1)"
      ],
      "metadata": {
        "colab": {
          "base_uri": "https://localhost:8080/"
        },
        "id": "q6QhYPvD3DZH",
        "outputId": "44d67632-b5ef-425a-d901-59205f73a783"
      },
      "execution_count": null,
      "outputs": [
        {
          "output_type": "stream",
          "name": "stdout",
          "text": [
            "{'name': 'Prabal', 'age': 23, 'city': 'KOlkata'}\n"
          ]
        }
      ]
    },
    {
      "cell_type": "markdown",
      "source": [
        "30. Write a code to convert a list of strings into a set."
      ],
      "metadata": {
        "id": "KJf811u93ipU"
      }
    },
    {
      "cell_type": "code",
      "source": [
        "list_30 = [\"I\",\"am\",\"good\",\"boy\"]\n",
        "set_30 = set(list_30)\n",
        "print(set_30)"
      ],
      "metadata": {
        "colab": {
          "base_uri": "https://localhost:8080/"
        },
        "id": "WhQOjqaQ3dc3",
        "outputId": "4cb5b951-73d0-4364-fd61-dada5368a0d9"
      },
      "execution_count": null,
      "outputs": [
        {
          "output_type": "stream",
          "name": "stdout",
          "text": [
            "{'am', 'good', 'I', 'boy'}\n"
          ]
        }
      ]
    },
    {
      "cell_type": "code",
      "source": [],
      "metadata": {
        "id": "sMX78i4o3plW"
      },
      "execution_count": null,
      "outputs": []
    }
  ]
}